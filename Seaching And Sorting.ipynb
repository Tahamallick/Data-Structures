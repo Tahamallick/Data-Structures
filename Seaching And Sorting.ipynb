{
 "cells": [
  {
   "cell_type": "markdown",
   "id": "bdc322f4",
   "metadata": {},
   "source": [
    "# Task 1"
   ]
  },
  {
   "cell_type": "code",
   "execution_count": 6,
   "id": "06872de8",
   "metadata": {},
   "outputs": [
    {
     "name": "stdout",
     "output_type": "stream",
     "text": [
      "{1,2,5,7,10,}\n"
     ]
    }
   ],
   "source": [
    "def binary_search(arr, value):\n",
    "    if len(arr) == 0:\n",
    "        return False;\n",
    "    maxi = len(arr) -1;\n",
    "    mini = 0;\n",
    "    mid = maxi//2;\n",
    "    while (not(mini > mid or maxi < mid)):\n",
    "        if value == arr[mid]:\n",
    "            return True\n",
    "        else:\n",
    "            if value < arr[mid]:\n",
    "                maxi = mid - 1;\n",
    "                mid = (mini + maxi)//2;\n",
    "            else:\n",
    "                if value > arr[mid]:\n",
    "                    mini = mid + 1;\n",
    "                    mid = (mini + maxi)//2;  \n",
    "    return False;\n",
    "\n",
    "def insertion_sort(arr):\n",
    "    n = len(arr);\n",
    "    for i in range(1, n):\n",
    "        lowest = arr[i];\n",
    "        current = i\n",
    "        while(current > 0 and lowest < arr[current - 1]):\n",
    "            arr[current] = arr[current - 1]\n",
    "            current -= 1;\n",
    "        arr[current] = lowest;\n",
    "\n",
    "class Set:\n",
    "    def __init__(self, *element):\n",
    "        self.elements = []\n",
    "        for j in element:\n",
    "            self.add(j)\n",
    "        insertion_sort(self.elements)\n",
    "        \n",
    "    def __len__(self):\n",
    "        return len(self.elements)\n",
    "    \n",
    "    def contains(self, value):\n",
    "        return binary_search(self.elements, value);\n",
    "    \n",
    "    def add(self, value):\n",
    "        if self.contains(value):\n",
    "            pass\n",
    "        else:\n",
    "            self.elements.append(value)\n",
    "    \n",
    "    def remove(self, value):\n",
    "        assert self.contains(value)\n",
    "        self.elements.remove(value)\n",
    "    \n",
    "    def eq(self, otherset):\n",
    "        if self.length() == otherset.length():\n",
    "            for element in self.elements:\n",
    "                if element not in otherset.elements:\n",
    "                    return False\n",
    "            return True\n",
    "        return False \n",
    "    \n",
    "    def issubsetof(self, otherset):\n",
    "        for element in self.elements:\n",
    "            if element not in otherset.elements:\n",
    "                return False\n",
    "        return True\n",
    "    \n",
    "    def union(self, otherset):\n",
    "        newset = Set()\n",
    "        for element in self.elements:\n",
    "            newset.add(element)\n",
    "        for element in otherset.elements:\n",
    "            if newset.contains(element) == False:\n",
    "                newset.add(element)\n",
    "        return newset\n",
    "    \n",
    "    def intersect(self, otherset):\n",
    "        newset = Set()\n",
    "        for element in self.elements:\n",
    "            if otherset.contains(element):\n",
    "                newset.add(element)\n",
    "        return newset\n",
    "                \n",
    "    def __str__(self):\n",
    "        s = \"{\"\n",
    "        for x in self.elements:\n",
    "            s += str(x) + \",\"\n",
    "        s += \"}\"\n",
    "        return (s)\n",
    "    \n",
    "    def difference(self, otherset):\n",
    "        newset = Set()\n",
    "        for elements in self.elements:\n",
    "            if otherset.contains(elements) == False:\n",
    "                newset.add(elements)\n",
    "        return newset\n",
    "    \n",
    "    def __iter__(self):\n",
    "        return Iterator(self.elements)\n",
    "    \n",
    "    def propersubset(self, otherset):\n",
    "        if self.length() != otherset.length():\n",
    "            for x in self:\n",
    "                if otherset.contains(x) == False:\n",
    "                    return False\n",
    "        return True\n",
    "    \n",
    "class Iterator:\n",
    "    def __init__(self, sets):\n",
    "        self.sets = sets\n",
    "        self.index = 0\n",
    "    \n",
    "    def __iter__(self):\n",
    "        return self\n",
    "    \n",
    "    def __next__(self):\n",
    "        if self.index < len(self.sets):\n",
    "            element = self.sets[self.index]\n",
    "            self.index += 1\n",
    "            return element\n",
    "        else:\n",
    "            raise StopIteration\n",
    "            \n",
    "s = Set(1, 5, 7, 2, 1, 10)\n",
    "print(s)"
   ]
  },
  {
   "cell_type": "markdown",
   "id": "7ebeef04",
   "metadata": {},
   "source": [
    "# Task 2"
   ]
  },
  {
   "cell_type": "code",
   "execution_count": 13,
   "id": "c8c12ede",
   "metadata": {},
   "outputs": [
    {
     "data": {
      "text/plain": [
       "3"
      ]
     },
     "execution_count": 13,
     "metadata": {},
     "output_type": "execute_result"
    }
   ],
   "source": [
    "def binary_search2(arr, value):\n",
    "    if len(arr) == 0:\n",
    "        return False;\n",
    "    maxi = len(arr) -1;\n",
    "    mini = 0;\n",
    "    mid = maxi//2;\n",
    "    while (not(mini > mid or maxi < mid)):\n",
    "        if value == arr[mid]:\n",
    "            current = mid;\n",
    "            while(current != -1 and arr[current] == value):\n",
    "                current -= 1;\n",
    "            return current + 1;\n",
    "        else:\n",
    "            if value < arr[mid]:\n",
    "                maxi = mid - 1;\n",
    "                mid = (mini + maxi)//2;\n",
    "            else:\n",
    "                if value > arr[mid]:\n",
    "                    mini = mid + 1;\n",
    "                    mid = (mini + maxi)//2;  \n",
    "    return False;\n",
    "\n",
    "l = [1, 1, 3, 4, 5, 6, 7, 8, 8, 8, 9, 10, 11, 12, 12, 12, 12, 12]\n",
    "binary_search2(l, 4)"
   ]
  },
  {
   "cell_type": "markdown",
   "id": "80b7592a",
   "metadata": {},
   "source": [
    "# Task 3"
   ]
  },
  {
   "cell_type": "code",
   "execution_count": 15,
   "id": "0db8e0e8",
   "metadata": {},
   "outputs": [
    {
     "name": "stdout",
     "output_type": "stream",
     "text": [
      "[-1, -3, -5, -12, -534, -543, -543546, -2]\n",
      "[-543546, -543, -534, -12, -5, -3, -2, -1]\n"
     ]
    }
   ],
   "source": [
    "def find_neg(arr, ordered):\n",
    "    negList = [];\n",
    "    if ordered:\n",
    "        for value in arr:\n",
    "            if value < 0:\n",
    "                negList.append(value);\n",
    "            else:\n",
    "                break;\n",
    "    else:\n",
    "        for value in arr:\n",
    "            if value < 0:\n",
    "                negList.append(value);\n",
    "    return negList;\n",
    "\n",
    "lis = [-1, -3, -5, 2, 3, 1, -12, -534, 23, 3, 1, -543, -543546, 124, -2];\n",
    "lis2 = find_neg(lis, False);\n",
    "insertion_sort(lis);\n",
    "lis3 = find_neg(lis, True);\n",
    "print(lis2);\n",
    "print(lis3)"
   ]
  },
  {
   "cell_type": "markdown",
   "id": "bb5fa6a3",
   "metadata": {},
   "source": [
    "# Task 4"
   ]
  },
  {
   "cell_type": "code",
   "execution_count": 21,
   "id": "864aaa86",
   "metadata": {},
   "outputs": [
    {
     "name": "stdout",
     "output_type": "stream",
     "text": [
      "1\n",
      "apple\n"
     ]
    },
    {
     "data": {
      "text/plain": [
       "1"
      ]
     },
     "execution_count": 21,
     "metadata": {},
     "output_type": "execute_result"
    }
   ],
   "source": [
    "import random\n",
    "class Grab_Bag:\n",
    "    def __init__(self, cart=[]):\n",
    "        self.cart = cart\n",
    "    \n",
    "    def length(self):\n",
    "        return len(self.cart)\n",
    "    \n",
    "    def contains(self, item):\n",
    "        return binary_search(self.cart, item)\n",
    "    \n",
    "    def add(self, item):\n",
    "        self.cart.append(item)\n",
    "        insertion_sort(self.cart);\n",
    "        \n",
    "    def grabitem(self):\n",
    "        return self.cart.pop(random.randint(0, self.length()-1))\n",
    "        \n",
    "    def numofitems(self, item):\n",
    "        count = 0\n",
    "        for x in self.cart:\n",
    "            if x == item:\n",
    "                count += 1\n",
    "        return count\n",
    "    \n",
    "ob2 = Grab_Bag()\n",
    "ob2.add(\"apple\")\n",
    "ob2.add(\"banana\")\n",
    "print(ob2.contains(\"banana\"))\n",
    "print(ob2.grabitem())\n",
    "ob2.length()"
   ]
  },
  {
   "cell_type": "markdown",
   "id": "0dbd8011",
   "metadata": {},
   "source": [
    "# Task 5"
   ]
  },
  {
   "cell_type": "code",
   "execution_count": 62,
   "id": "b4fd8f11",
   "metadata": {},
   "outputs": [
    {
     "name": "stdout",
     "output_type": "stream",
     "text": [
      "6\n",
      "True\n",
      "2\n",
      "34\n",
      "89\n"
     ]
    }
   ],
   "source": [
    "def binary_search_on_map(arr, value):\n",
    "    if len(arr) == 0:\n",
    "        return -1;\n",
    "    maxi = len(arr) -1;\n",
    "    mini = 0;\n",
    "    mid = maxi//2;\n",
    "    while (not(mini > mid or maxi < mid)):\n",
    "        if value == arr[mid][0]:\n",
    "            return mid\n",
    "        else:\n",
    "            if value < arr[mid][0]:\n",
    "                maxi = mid - 1;\n",
    "                mid = (mini + maxi)//2;\n",
    "            else:\n",
    "                if value > arr[mid][0]:\n",
    "                    mini = mid + 1;\n",
    "                    mid = (mini + maxi)//2;  \n",
    "    return -1;\n",
    "\n",
    "class Map:\n",
    "    def __init__(self):\n",
    "        self.dic = [];\n",
    "        \n",
    "    def __len__(self):\n",
    "        count = 0;\n",
    "        for item in self.dic:\n",
    "            count += 1;\n",
    "        return count;\n",
    "        \n",
    "    def add(self, key, value):\n",
    "        if binary_search_on_map(self.dic, key) != -1:\n",
    "            self.remove(key);\n",
    "        self.dic.append([key, value]);\n",
    "        insertion_sort(self.dic);\n",
    "    \n",
    "    def remove(self, key):\n",
    "        index = binary_search_on_map(self.dic, key);\n",
    "        if index != -1:\n",
    "            self.dic.pop(index);\n",
    "        else:\n",
    "            raise Exception\n",
    "        \n",
    "    def contains(self, key):\n",
    "        for item in self.dic:\n",
    "            if item[0] == key:\n",
    "                return True;\n",
    "        return False;\n",
    "    \n",
    "    def valueOf(self, key):\n",
    "        for item in self.dic:\n",
    "            if item[0] == key:\n",
    "                return item[1];\n",
    "        raise Exception;\n",
    "        \n",
    "    def __iter__(self):\n",
    "        return MapIterator(self.dic);\n",
    "    \n",
    "class MapIterator:\n",
    "    def __init__(self, maps):\n",
    "        self.map = maps;\n",
    "        self.index = 0;\n",
    "        \n",
    "    def __iter__(self):\n",
    "        return self;\n",
    "    \n",
    "    def __next__(self):\n",
    "        if self.index < len(self.map):\n",
    "            key = self.map[self.index][0];\n",
    "            self.index += 1;\n",
    "            return key;\n",
    "        else:\n",
    "            raise StopIteration;\n",
    "            \n",
    "d1 = Map();\n",
    "d1.add(2, 6);\n",
    "d1.add(89, 8);\n",
    "d1.add(34, 2);\n",
    "d1.add(34, 6);\n",
    "d1.add(67, 4)\n",
    "print(d1.valueOf(34))\n",
    "print(89 in d1)\n",
    "d1.remove(67)\n",
    "for i in d1:\n",
    "    print(i)"
   ]
  }
 ],
 "metadata": {
  "kernelspec": {
   "display_name": "Python 3 (ipykernel)",
   "language": "python",
   "name": "python3"
  },
  "language_info": {
   "codemirror_mode": {
    "name": "ipython",
    "version": 3
   },
   "file_extension": ".py",
   "mimetype": "text/x-python",
   "name": "python",
   "nbconvert_exporter": "python",
   "pygments_lexer": "ipython3",
   "version": "3.9.7"
  }
 },
 "nbformat": 4,
 "nbformat_minor": 5
}
