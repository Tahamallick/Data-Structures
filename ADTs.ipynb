{
 "cells": [
  {
   "cell_type": "markdown",
   "id": "6a5bb9c8",
   "metadata": {},
   "source": [
    "\n",
    "# Task 1.1\n"
   ]
  },
  {
   "cell_type": "code",
   "execution_count": 2,
   "id": "1bfcc16d",
   "metadata": {},
   "outputs": [
    {
     "name": "stdout",
     "output_type": "stream",
     "text": [
      "1\n",
      "2\n",
      "0\n"
     ]
    }
   ],
   "source": [
    "class click_counter:\n",
    "    def __init__(self, counter=0, initial=0):\n",
    "        self.counter = counter\n",
    "        self.initial = initial\n",
    "        \n",
    "    def press(self):\n",
    "        self.counter += 1\n",
    "        print(self.counter)\n",
    "        \n",
    "    def reset(self):\n",
    "        self.counter = self.initial\n",
    "        print(self.counter)\n",
    "        \n",
    "ob1 = click_counter()\n",
    "ob1.press()\n",
    "ob1.press()\n",
    "ob1.reset()"
   ]
  },
  {
   "cell_type": "markdown",
   "id": "b7feb528",
   "metadata": {},
   "source": [
    "# Task 1.2"
   ]
  },
  {
   "cell_type": "code",
   "execution_count": 12,
   "id": "28395a2b",
   "metadata": {},
   "outputs": [
    {
     "name": "stdout",
     "output_type": "stream",
     "text": [
      "True\n"
     ]
    },
    {
     "data": {
      "text/plain": [
       "1"
      ]
     },
     "execution_count": 12,
     "metadata": {},
     "output_type": "execute_result"
    }
   ],
   "source": [
    "import random\n",
    "class Grab_Bag:\n",
    "    def __init__(self, cart=[]):\n",
    "        self.cart = cart\n",
    "    \n",
    "    def length(self):\n",
    "        return len(self.cart)\n",
    "    \n",
    "    def contains(self, item):\n",
    "        if item in self.cart:\n",
    "            return True\n",
    "        return False\n",
    "    \n",
    "    def add(self, item):\n",
    "        self.cart.append(item)\n",
    "        \n",
    "    def grabitem(self):\n",
    "        self.cart.pop(random.randint(0, self.length()-1))\n",
    "        \n",
    "ob2 = Grab_Bag()\n",
    "ob2.add(\"apple\")\n",
    "ob2.add(\"banana\")\n",
    "print(ob2.contains(\"banana\"))\n",
    "ob2.grabitem()\n",
    "ob2.length()"
   ]
  },
  {
   "cell_type": "markdown",
   "id": "e017e276",
   "metadata": {},
   "source": [
    "# Task 1.3"
   ]
  },
  {
   "cell_type": "code",
   "execution_count": null,
   "id": "8155f3d4",
   "metadata": {},
   "outputs": [],
   "source": [
    "class Grab_Bag:\n",
    "    def __init__(self, cart=[]):\n",
    "        self.cart = cart\n",
    "    \n",
    "    def length(self):\n",
    "        return len(self.cart)\n",
    "    \n",
    "    def contains(self, item):\n",
    "        if item in self.cart:\n",
    "            return True\n",
    "        return False\n",
    "    \n",
    "    def add(self, item):\n",
    "        self.cart.append(item)\n",
    "        \n",
    "    def grabitem(self):\n",
    "        self.cart.pop(random.randint(0, self.length()-1))\n",
    "        \n",
    "    def numofitems(self, item):\n",
    "        count = 0\n",
    "        for x in self.cart:\n",
    "            if x == item:\n",
    "                count += 1\n",
    "        return count\n",
    "    \n"
   ]
  }
 ],
 "metadata": {
  "kernelspec": {
   "display_name": "Python 3 (ipykernel)",
   "language": "python",
   "name": "python3"
  },
  "language_info": {
   "codemirror_mode": {
    "name": "ipython",
    "version": 3
   },
   "file_extension": ".py",
   "mimetype": "text/x-python",
   "name": "python",
   "nbconvert_exporter": "python",
   "pygments_lexer": "ipython3",
   "version": "3.9.7"
  }
 },
 "nbformat": 4,
 "nbformat_minor": 5
}
